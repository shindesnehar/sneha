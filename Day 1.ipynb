{
 "cells": [
  {
   "cell_type": "code",
   "execution_count": 4,
   "metadata": {},
   "outputs": [
    {
     "name": "stdout",
     "output_type": "stream",
     "text": [
      "enter a value5\n",
      "enter b value10\n",
      "addition of 5 + 10 = 15\n",
      "substract of 5 - 10 =-5\n"
     ]
    }
   ],
   "source": [
    "a = int(input('enter a value'))\n",
    "b = int(input('enter b value'))\n",
    "\n",
    "print('addition of',a,'+',b,'=',a+b)\n",
    "print('substract of %d - %d =%d'%(a,b,a-b))\n"
   ]
  },
  {
   "cell_type": "markdown",
   "metadata": {},
   "source": [
    "# Relational or Comparision\n",
    "\n",
    "+>,<,<=,>=,==,!=\n",
    "\n"
   ]
  },
  {
   "cell_type": "code",
   "execution_count": 9,
   "metadata": {},
   "outputs": [
    {
     "name": "stdout",
     "output_type": "stream",
     "text": [
      "greaterthan--> True\n",
      "lessthan--> False\n",
      "greaterthan or equalsto True\n",
      "lessthan or equalsto True\n",
      "not equalsto True\n",
      "equals to True\n"
     ]
    }
   ],
   "source": [
    "print('greaterthan-->',10>5)\n",
    "print('lessthan-->',100<50)\n",
    "print('greaterthan or equalsto',200>=199)\n",
    "print('lessthan or equalsto',199<=200)\n",
    "print('not equalsto',200!=199)\n",
    "print('equals to',200==200)      \n",
    "      \n"
   ]
  },
  {
   "cell_type": "markdown",
   "metadata": {},
   "source": [
    "# Assigment operators\n",
    "+ +=,-=,=/*=,//=\n"
   ]
  },
  {
   "cell_type": "code",
   "execution_count": 11,
   "metadata": {},
   "outputs": [
    {
     "name": "stdout",
     "output_type": "stream",
     "text": [
      "final result is 100\n"
     ]
    }
   ],
   "source": [
    "a=10\n",
    "a+=90\n",
    "a-=50\n",
    "a*=2\n",
    "print('final result is',a)"
   ]
  },
  {
   "cell_type": "markdown",
   "metadata": {},
   "source": []
  },
  {
   "cell_type": "markdown",
   "metadata": {},
   "source": [
    "# Logical operation\n",
    "+ and,or,not"
   ]
  },
  {
   "cell_type": "code",
   "execution_count": 12,
   "metadata": {},
   "outputs": [
    {
     "name": "stdout",
     "output_type": "stream",
     "text": [
      "False\n",
      "False\n",
      "False\n",
      "True\n"
     ]
    }
   ],
   "source": [
    "# and\n",
    "print(False and False)\n",
    "print(False and True)\n",
    "print(True and False)\n",
    "print(True and True) #(0,0---0,1---1,0--1,1)"
   ]
  },
  {
   "cell_type": "code",
   "execution_count": 13,
   "metadata": {},
   "outputs": [
    {
     "name": "stdout",
     "output_type": "stream",
     "text": [
      "False\n",
      "True\n",
      "True\n",
      "True\n"
     ]
    }
   ],
   "source": [
    "# or\n",
    "print(False or False)\n",
    "print(False or True)\n",
    "print(True or False)\n",
    "print(True or True) #(0,0---0,1---1,0--1,1)"
   ]
  },
  {
   "cell_type": "code",
   "execution_count": 16,
   "metadata": {},
   "outputs": [
    {
     "name": "stdout",
     "output_type": "stream",
     "text": [
      "True\n",
      "True\n",
      "True\n",
      "False\n"
     ]
    }
   ],
   "source": [
    "# not with and\n",
    "print(not(False and False))\n",
    "print(not(False and True))\n",
    "print(not(True and False))\n",
    "print(not(True and True)) #(0,0---0,1---1,0--1,1)"
   ]
  },
  {
   "cell_type": "code",
   "execution_count": 17,
   "metadata": {},
   "outputs": [
    {
     "name": "stdout",
     "output_type": "stream",
     "text": [
      "True\n",
      "False\n",
      "False\n",
      "False\n"
     ]
    }
   ],
   "source": [
    "# not with or\n",
    "print(not(False or False))\n",
    "print(not(False or True))\n",
    "print(not(True or False))\n",
    "print(not(True or True)) #(0,0---0,1---1,0--1,1)\n"
   ]
  },
  {
   "cell_type": "markdown",
   "metadata": {},
   "source": [
    "# Membership operator\n",
    "+ in,not in"
   ]
  },
  {
   "cell_type": "code",
   "execution_count": 21,
   "metadata": {},
   "outputs": [
    {
     "name": "stdout",
     "output_type": "stream",
     "text": [
      "True\n",
      "False\n",
      "False\n"
     ]
    }
   ],
   "source": [
    "s=\"Welcome to pythonworkshop\"\n",
    "'to' in s\n",
    "print('to'in s)\n",
    "print('too'in s)\n",
    "print('x'in s)\n"
   ]
  },
  {
   "cell_type": "markdown",
   "metadata": {},
   "source": [
    "# Identity operator\n",
    "+ is is not"
   ]
  },
  {
   "cell_type": "code",
   "execution_count": 22,
   "metadata": {},
   "outputs": [
    {
     "name": "stdout",
     "output_type": "stream",
     "text": [
      "False\n",
      "True\n"
     ]
    }
   ],
   "source": [
    "x='hai'\n",
    "y='hello'\n",
    "print(x is y)\n",
    "print(x is not y)"
   ]
  },
  {
   "cell_type": "markdown",
   "metadata": {},
   "source": [
    "# Bitwise operator\n",
    "+ &,|,^"
   ]
  },
  {
   "cell_type": "code",
   "execution_count": 23,
   "metadata": {},
   "outputs": [
    {
     "data": {
      "text/plain": [
       "'0b10'"
      ]
     },
     "execution_count": 23,
     "metadata": {},
     "output_type": "execute_result"
    }
   ],
   "source": [
    "2&2\n",
    "bin(2)"
   ]
  },
  {
   "cell_type": "code",
   "execution_count": 24,
   "metadata": {},
   "outputs": [
    {
     "data": {
      "text/plain": [
       "'0b101'"
      ]
     },
     "execution_count": 24,
     "metadata": {},
     "output_type": "execute_result"
    }
   ],
   "source": [
    "2&5\n",
    "bin(5)"
   ]
  },
  {
   "cell_type": "code",
   "execution_count": 26,
   "metadata": {},
   "outputs": [
    {
     "data": {
      "text/plain": [
       "'0b1010'"
      ]
     },
     "execution_count": 26,
     "metadata": {},
     "output_type": "execute_result"
    }
   ],
   "source": [
    "2&5\n",
    "5|10\n",
    "bin(10)"
   ]
  },
  {
   "cell_type": "code",
   "execution_count": 35,
   "metadata": {},
   "outputs": [
    {
     "data": {
      "text/plain": [
       "'0b10'"
      ]
     },
     "execution_count": 35,
     "metadata": {},
     "output_type": "execute_result"
    }
   ],
   "source": [
    "2&5\n",
    "5|10\n",
    "int('1111',2)\n",
    "bin(2)\n",
    "\n"
   ]
  },
  {
   "cell_type": "code",
   "execution_count": 39,
   "metadata": {},
   "outputs": [
    {
     "data": {
      "text/plain": [
       "'7'"
      ]
     },
     "execution_count": 39,
     "metadata": {},
     "output_type": "execute_result"
    }
   ],
   "source": [
    "2&3\n",
    "3|2\n",
    "bin(3)\n",
    "int('0111',2)\n",
    "# Acii values convert\n",
    "ord('A')\n",
    "chr(55)\n",
    "\n"
   ]
  },
  {
   "cell_type": "markdown",
   "metadata": {},
   "source": [
    "a=int(input('Enter a value'))\n",
    "b=int(input('Enter b value'))\n",
    "c=int(input('Enter c value'))\n",
    "d=int(input('Enter d value'))\n",
    "e=int(input('Enter e value'))\n",
    "f=a+b-c*d/e\n",
    "print(\"final result is\",f)"
   ]
  },
  {
   "cell_type": "markdown",
   "metadata": {},
   "source": [
    "# Conditional Statements\n",
    "+ if,elif,else\n",
    "### condition syntax\n",
    "if condition:\n",
    "    statements\n",
    "elif condition:\n",
    "    statement\n",
    "else\n",
    "    statements\n",
    "    \n",
    "    "
   ]
  },
  {
   "cell_type": "code",
   "execution_count": 47,
   "metadata": {},
   "outputs": [
    {
     "name": "stdout",
     "output_type": "stream",
     "text": [
      "Enter the value:-14\n",
      "14 is an even number\n"
     ]
    }
   ],
   "source": [
    "# Even numbers \n",
    "n=int(input('Enter the value:-'))\n",
    "if n%2==0:\n",
    "    print(n,'is an even number')\n",
    "else:\n",
    "    print(n,'not even number')\n",
    "\n",
    "        "
   ]
  },
  {
   "cell_type": "code",
   "execution_count": 48,
   "metadata": {},
   "outputs": [
    {
     "name": "stdout",
     "output_type": "stream",
     "text": [
      "Enter the value:-6\n",
      "6 not odd number\n"
     ]
    }
   ],
   "source": [
    "# Odd numbers \n",
    "n=int(input('Enter the value:-'))\n",
    "if n%2==1:\n",
    "    print(n,'is an odd number')\n",
    "else:\n",
    "    print(n,'not odd number')\n"
   ]
  },
  {
   "cell_type": "code",
   "execution_count": 49,
   "metadata": {},
   "outputs": [
    {
     "name": "stdout",
     "output_type": "stream",
     "text": [
      "Enter the value:-121\n",
      "121 is an odd number\n"
     ]
    }
   ],
   "source": [
    "# Odd numbers \n",
    "n=int(input('Enter the value:-'))\n",
    "if n%2!=0: #n%2==1\n",
    "    print(n,'is an odd number')\n",
    "else:\n",
    "    print(n,'not odd number')\n"
   ]
  },
  {
   "cell_type": "code",
   "execution_count": 57,
   "metadata": {},
   "outputs": [
    {
     "name": "stdout",
     "output_type": "stream",
     "text": [
      "Enter a value:-6\n",
      "6 friday\n"
     ]
    }
   ],
   "source": [
    "\n",
    "a=int(input('Enter a value:-'))\n",
    "if(a==1):\n",
    "    print(a,'sunday')\n",
    "if(a==2):\n",
    "    print(a,'monday')\n",
    "elif(a==3):\n",
    "    print(a,'tuesday')\n",
    "elif(a==4):\n",
    "    print(a,'wednesday')\n",
    "elif(a==5):\n",
    "    print(a,'thursday')\n",
    "elif(a==6):\n",
    "    print(a,'friday')\n",
    "elif(a==7):\n",
    "    print(a,'saturday')\n",
    "else:\n",
    "    print( a,'invalid output')\n",
    "     \n"
   ]
  },
  {
   "cell_type": "markdown",
   "metadata": {},
   "source": [
    "# Based on time take inpot from user"
   ]
  },
  {
   "cell_type": "code",
   "execution_count": 65,
   "metadata": {},
   "outputs": [
    {
     "name": "stdout",
     "output_type": "stream",
     "text": [
      "Enter the time17.00\n",
      "17.0 GoodAfternoon\n"
     ]
    }
   ],
   "source": [
    "time=float(input('Enter the time'))\n",
    "\n",
    "if(time>=0.0)and(time<=12.00):\n",
    "    print(time,'GoodMorning')\n",
    "elif(time>=13.00)and(time<=17.00):\n",
    "    print(time,'GoodAfternoon')\n",
    "elif(time>=18.00)and(time<=21.00):\n",
    "    print(time,'GoodEvening')\n",
    "elif(time>=22.00)and(time<=24.00):\n",
    "    print(time,'GoodNight')\n",
    "else:\n",
    "    print(time,'invalid output')\n",
    "    "
   ]
  },
  {
   "cell_type": "code",
   "execution_count": 64,
   "metadata": {},
   "outputs": [
    {
     "name": "stdout",
     "output_type": "stream",
     "text": [
      "Enter the time22\n",
      "22 GoodNight\n"
     ]
    }
   ],
   "source": [
    "time=int(input('Enter the time'))\n",
    "\n",
    "if(time>=0)and(time<=12):\n",
    "    print(time,'GoodMorning')\n",
    "elif(time>=13)and(time<=17):\n",
    "    print(time,'GoodAfternoon')\n",
    "elif(time>=18)and(time<=21):\n",
    "    print(time,'GoodEvening')\n",
    "elif(time>=22)and(time<=24):\n",
    "    print(time,'GoodNight')\n",
    "else:\n",
    "    print(time,'invalid output')\n",
    "    "
   ]
  },
  {
   "cell_type": "code",
   "execution_count": 2,
   "metadata": {},
   "outputs": [
    {
     "name": "stdout",
     "output_type": "stream",
     "text": [
      "Enter a alphabet:-d\n",
      "d Alphabet\n"
     ]
    }
   ],
   "source": [
    "alp=input('Enter a alphabet:-')\n",
    "if(alp>='a' and alp<='z')or(alp>'A' and alp<='Z'):\n",
    "    print(alp,'Alphabet')\n",
    "elif(alp>='0')and(alp<='50'):\n",
    "    print(alp,'Digit')\n",
    "else:\n",
    "    print(alp,'special characters')\n",
    "        "
   ]
  },
  {
   "cell_type": "code",
   "execution_count": null,
   "metadata": {},
   "outputs": [
    {
     "name": "stdout",
     "output_type": "stream",
     "text": [
      "\n",
      "Welcome to Python 3.6's help utility!\n",
      "\n",
      "If this is your first time using Python, you should definitely check out\n",
      "the tutorial on the Internet at https://docs.python.org/3.6/tutorial/.\n",
      "\n",
      "Enter the name of any module, keyword, or topic to get help on writing\n",
      "Python programs and using Python modules.  To quit this help utility and\n",
      "return to the interpreter, just type \"quit\".\n",
      "\n",
      "To get a list of available modules, keywords, symbols, or topics, type\n",
      "\"modules\", \"keywords\", \"symbols\", or \"topics\".  Each module also comes\n",
      "with a one-line summary of what it does; to list the modules whose name\n",
      "or summary contain a given string such as \"spam\", type \"modules spam\".\n",
      "\n",
      "help> modules\n",
      "\n",
      "Please wait a moment while I gather a list of all available modules...\n",
      "\n"
     ]
    },
    {
     "name": "stderr",
     "output_type": "stream",
     "text": [
      "c:\\users\\admin\\appdata\\local\\programs\\python\\python36-32\\lib\\site-packages\\IPython\\kernel\\__init__.py:13: ShimWarning: The `IPython.kernel` package has been deprecated since IPython 4.0.You should import from ipykernel or jupyter_client instead.\n",
      "  \"You should import from ipykernel or jupyter_client instead.\", ShimWarning)\n",
      "c:\\users\\admin\\appdata\\local\\programs\\python\\python36-32\\lib\\pkgutil.py:107: VisibleDeprecationWarning: zmq.eventloop.minitornado is deprecated in pyzmq 14.0 and will be removed.\n",
      "    Install tornado itself to use zmq with the tornado IOLoop.\n",
      "    \n",
      "  yield from walk_packages(path, info.name+'.', onerror)\n"
     ]
    },
    {
     "name": "stdout",
     "output_type": "stream",
     "text": [
      "IPython             calendar            modulefinder        symtable\n",
      "__future__          cffi                msilib              sys\n",
      "_ast                cgi                 msvcrt              sysconfig\n",
      "_asyncio            cgitb               multiprocessing     tabnanny\n",
      "_bisect             chunk               nbclient            tarfile\n",
      "_blake2             cmath               nbconvert           telnetlib\n",
      "_bootlocale         cmd                 nbformat            tempfile\n",
      "_bz2                code                nest_asyncio        terminado\n",
      "_cffi_backend       codecs              netbios             test\n",
      "_codecs             codeop              netrc               testpath\n",
      "_codecs_cn          collections         nntplib             tests\n",
      "_codecs_hk          colorama            notebook            textwrap\n",
      "_codecs_iso2022     colorsys            nt                  this\n",
      "_codecs_jp          commctrl            ntpath              threading\n",
      "_codecs_kr          compileall          ntsecuritycon       time\n",
      "_codecs_tw          concurrent          nturl2path          timeit\n",
      "_collections        configparser        numbers             timer\n",
      "_collections_abc    contextlib          odbc                tkinter\n",
      "_compat_pickle      copy                opcode              token\n",
      "_compression        copyreg             operator            tokenize\n",
      "_csv                crypt               optparse            tornado\n",
      "_ctypes             csv                 os                  trace\n",
      "_ctypes_test        ctypes              packaging           traceback\n",
      "_datetime           curses              pandocfilters       tracemalloc\n",
      "_decimal            cythonmagic         parser              traitlets\n",
      "_distutils_findvs   datetime            parso               tty\n",
      "_dummy_thread       dateutil            pathlib             turtle\n",
      "_elementtree        dbi                 pdb                 turtledemo\n",
      "_functools          dbm                 perfmon             types\n",
      "_hashlib            dde                 pickle              typing\n",
      "_heapq              decimal             pickleshare         typing_extensions\n",
      "_imp                decorator           pickletools         unicodedata\n",
      "_io                 defusedxml          pip                 unittest\n",
      "_json               difflib             pipes               urllib\n",
      "_locale             dis                 pkg_resources       uu\n",
      "_lsprof             distutils           pkgutil             uuid\n",
      "_lzma               doctest             platform            venv\n",
      "_markupbase         dummy_threading     plistlib            warnings\n",
      "_md5                easy_install        poplib              wave\n",
      "_msi                email               posixpath           wcwidth\n",
      "_multibytecodec     encodings           pprint              weakref\n",
      "_multiprocessing    ensurepip           profile             webbrowser\n",
      "_opcode             entrypoints         prometheus_client   webencodings\n",
      "_operator           enum                prompt_toolkit      widgetsnbextension\n",
      "_osx_support        errno               pstats              win2kras\n",
      "_overlapped         faulthandler        pty                 win32api\n",
      "_pickle             filecmp             py_compile          win32clipboard\n",
      "_pydecimal          fileinput           pyclbr              win32com\n",
      "_pyio               fnmatch             pycparser           win32con\n",
      "_pyrsistent_version formatter           pydoc               win32console\n",
      "_random             fractions           pydoc_data          win32cred\n",
      "_sha1               ftplib              pyexpat             win32crypt\n",
      "_sha256             functools           pygments            win32cryptcon\n",
      "_sha3               gc                  pyparsing           win32event\n",
      "_sha512             genericpath         pyrsistent          win32evtlog\n",
      "_signal             getopt              pythoncom           win32evtlogutil\n",
      "_sitebuiltins       getpass             pywin               win32file\n",
      "_socket             gettext             pywin32_bootstrap   win32gui\n",
      "_sqlite3            glob                pywin32_testutil    win32gui_struct\n",
      "_sre                gzip                pywintypes          win32help\n",
      "_ssl                hashlib             qtconsole           win32inet\n",
      "_stat               heapq               qtpy                win32inetcon\n",
      "_string             hmac                queue               win32job\n",
      "_strptime           html                quopri              win32lz\n",
      "_struct             http                random              win32net\n",
      "_symtable           idlelib             rasutil             win32netcon\n",
      "_testbuffer         imaplib             re                  win32pdh\n",
      "_testcapi           imghdr              regcheck            win32pdhquery\n",
      "_testconsole        imp                 regutil             win32pdhutil\n",
      "_testimportmultiple importlib           reprlib             win32pipe\n",
      "_testmultiphase     importlib_metadata  rlcompleter         win32print\n",
      "_thread             inspect             rmagic              win32process\n",
      "_threading_local    io                  runpy               win32profile\n",
      "_tkinter            ipaddress           sched               win32ras\n",
      "_tracemalloc        ipykernel           secrets             win32rcparser\n",
      "_warnings           ipykernel_launcher  select              win32security\n",
      "_weakref            ipython_genutils    selectors           win32service\n",
      "_weakrefset         ipywidgets          send2trash          win32serviceutil\n",
      "_win32sysloader     isapi               servicemanager      win32timezone\n",
      "_winapi             itertools           setuptools          win32trace\n",
      "_winxptheme         jedi                shelve              win32traceutil\n",
      "abc                 jinja2              shlex               win32transaction\n",
      "adodbapi            json                shutil              win32ts\n",
      "afxres              jsonschema          signal              win32ui\n",
      "aifc                jupyter             site                win32uiole\n",
      "antigravity         jupyter_client      six                 win32verstamp\n",
      "argon2              jupyter_console     smtpd               win32wnet\n",
      "argparse            jupyter_core        smtplib             winerror\n",
      "array               jupyterlab_pygments sndhdr              winioctlcon\n",
      "ast                 jupyterlab_widgets  socket              winnt\n",
      "async_generator     keyword             socketserver        winperf\n",
      "asynchat            lib2to3             sqlite3             winpty\n",
      "asyncio             linecache           sre_compile         winreg\n",
      "asyncore            locale              sre_constants       winsound\n",
      "atexit              logging             sre_parse           winxpgui\n",
      "attr                lzma                ssl                 winxptheme\n",
      "audioop             macpath             sspi                wsgiref\n",
      "autoreload          macurl2path         sspicon             xdrlib\n",
      "backcall            mailbox             stat                xml\n",
      "base64              mailcap             statistics          xmlrpc\n",
      "bdb                 markupsafe          storemagic          xxsubtype\n",
      "binascii            marshal             string              zipapp\n",
      "binhex              math                stringprep          zipfile\n",
      "bisect              mimetypes           struct              zipimport\n",
      "bleach              mistune             subprocess          zipp\n",
      "builtins            mmap                sunau               zlib\n",
      "bz2                 mmapfile            symbol              zmq\n",
      "cProfile            mmsystem            sympyprinting       \n",
      "\n",
      "Enter any module name to get more help.  Or, type \"modules spam\" to search\n",
      "for modules whose name or summary contain the string \"spam\".\n",
      "\n",
      "help> getpass\n"
     ]
    }
   ],
   "source": [
    "help()\n"
   ]
  },
  {
   "cell_type": "code",
   "execution_count": 1,
   "metadata": {},
   "outputs": [
    {
     "data": {
      "text/plain": [
       "['__call__',\n",
       " '__class__',\n",
       " '__delattr__',\n",
       " '__dir__',\n",
       " '__doc__',\n",
       " '__eq__',\n",
       " '__format__',\n",
       " '__func__',\n",
       " '__ge__',\n",
       " '__get__',\n",
       " '__getattribute__',\n",
       " '__gt__',\n",
       " '__hash__',\n",
       " '__init__',\n",
       " '__init_subclass__',\n",
       " '__le__',\n",
       " '__lt__',\n",
       " '__ne__',\n",
       " '__new__',\n",
       " '__reduce__',\n",
       " '__reduce_ex__',\n",
       " '__repr__',\n",
       " '__self__',\n",
       " '__setattr__',\n",
       " '__sizeof__',\n",
       " '__str__',\n",
       " '__subclasshook__']"
      ]
     },
     "execution_count": 1,
     "metadata": {},
     "output_type": "execute_result"
    }
   ],
   "source": [
    "from getpass import getpass\n",
    "dir(getpass)"
   ]
  },
  {
   "cell_type": "code",
   "execution_count": 2,
   "metadata": {},
   "outputs": [
    {
     "data": {
      "text/plain": [
       "['GetPassWarning',\n",
       " '__all__',\n",
       " '__builtins__',\n",
       " '__cached__',\n",
       " '__doc__',\n",
       " '__file__',\n",
       " '__loader__',\n",
       " '__name__',\n",
       " '__package__',\n",
       " '__spec__',\n",
       " '_raw_input',\n",
       " 'contextlib',\n",
       " 'fallback_getpass',\n",
       " 'getpass',\n",
       " 'getuser',\n",
       " 'io',\n",
       " 'msvcrt',\n",
       " 'os',\n",
       " 'sys',\n",
       " 'unix_getpass',\n",
       " 'warnings',\n",
       " 'win_getpass']"
      ]
     },
     "execution_count": 2,
     "metadata": {},
     "output_type": "execute_result"
    }
   ],
   "source": [
    "import getpass\n",
    "dir(getpass)"
   ]
  },
  {
   "cell_type": "code",
   "execution_count": 4,
   "metadata": {},
   "outputs": [
    {
     "name": "stdout",
     "output_type": "stream",
     "text": [
      "enter username:-sweety\n",
      "enter password:-········\n",
      "Welcome sweety\n"
     ]
    }
   ],
   "source": [
    "from getpass import getpass\n",
    "\n",
    "username=input('enter username:-')\n",
    "password=getpass('enter password:-')\n",
    "\n",
    "if username=='sweety' and password=='01234':\n",
    "    print('Welcome',username)\n",
    "\n",
    "else:\n",
    "    print('invalid username or password')"
   ]
  },
  {
   "cell_type": "markdown",
   "metadata": {},
   "source": [
    "# Flow Control Statements\n",
    "+ forloop\n",
    "\n",
    "###  Syntax\n",
    "\n",
    "for variable in range(inclusive,exclusive,step):\n",
    "    print(variable)\n",
    "\n",
    "+ whileloop\n",
    "\n",
    "# Jumping Statements\n",
    "+ break\n",
    "+ continue\n",
    "+ pass"
   ]
  },
  {
   "cell_type": "code",
   "execution_count": 5,
   "metadata": {},
   "outputs": [
    {
     "name": "stdout",
     "output_type": "stream",
     "text": [
      "0\n",
      "1\n",
      "2\n",
      "3\n",
      "4\n",
      "5\n",
      "6\n",
      "7\n",
      "8\n",
      "9\n",
      "10\n",
      "11\n",
      "12\n",
      "13\n",
      "14\n",
      "15\n",
      "16\n",
      "17\n",
      "18\n",
      "19\n",
      "20\n",
      "21\n",
      "22\n",
      "23\n",
      "24\n",
      "25\n",
      "26\n",
      "27\n",
      "28\n",
      "29\n",
      "30\n",
      "31\n",
      "32\n",
      "33\n",
      "34\n",
      "35\n",
      "36\n",
      "37\n",
      "38\n",
      "39\n",
      "40\n",
      "41\n",
      "42\n",
      "43\n",
      "44\n",
      "45\n",
      "46\n",
      "47\n",
      "48\n",
      "49\n",
      "50\n",
      "51\n",
      "52\n",
      "53\n",
      "54\n",
      "55\n",
      "56\n",
      "57\n",
      "58\n",
      "59\n",
      "60\n",
      "61\n",
      "62\n",
      "63\n",
      "64\n",
      "65\n",
      "66\n",
      "67\n",
      "68\n",
      "69\n",
      "70\n",
      "71\n",
      "72\n",
      "73\n",
      "74\n",
      "75\n",
      "76\n",
      "77\n",
      "78\n",
      "79\n",
      "80\n",
      "81\n",
      "82\n",
      "83\n",
      "84\n",
      "85\n",
      "86\n",
      "87\n",
      "88\n",
      "89\n",
      "90\n",
      "91\n",
      "92\n",
      "93\n",
      "94\n",
      "95\n",
      "96\n",
      "97\n",
      "98\n",
      "99\n",
      "100\n"
     ]
    }
   ],
   "source": [
    "# forloop\n",
    "\n",
    "for i in range(101):\n",
    "    print(i)"
   ]
  },
  {
   "cell_type": "code",
   "execution_count": 6,
   "metadata": {},
   "outputs": [
    {
     "name": "stdout",
     "output_type": "stream",
     "text": [
      "0\n",
      "1\n",
      "2\n",
      "3\n",
      "4\n",
      "5\n",
      "6\n",
      "7\n",
      "8\n",
      "9\n",
      "10\n",
      "11\n",
      "12\n",
      "13\n",
      "14\n",
      "15\n",
      "16\n",
      "17\n",
      "18\n",
      "19\n",
      "20\n",
      "21\n",
      "22\n",
      "23\n",
      "24\n",
      "25\n",
      "26\n",
      "27\n",
      "28\n",
      "29\n",
      "30\n",
      "31\n",
      "32\n",
      "33\n",
      "34\n",
      "35\n",
      "36\n",
      "37\n",
      "38\n",
      "39\n",
      "40\n",
      "41\n",
      "42\n",
      "43\n",
      "44\n",
      "45\n",
      "46\n",
      "47\n",
      "48\n",
      "49\n",
      "50\n",
      "51\n",
      "52\n",
      "53\n",
      "54\n",
      "55\n",
      "56\n",
      "57\n",
      "58\n",
      "59\n",
      "60\n",
      "61\n",
      "62\n",
      "63\n",
      "64\n",
      "65\n",
      "66\n",
      "67\n",
      "68\n",
      "69\n",
      "70\n",
      "71\n",
      "72\n",
      "73\n",
      "74\n",
      "75\n",
      "76\n",
      "77\n",
      "78\n",
      "79\n",
      "80\n",
      "81\n",
      "82\n",
      "83\n",
      "84\n",
      "85\n",
      "86\n",
      "87\n",
      "88\n",
      "89\n",
      "90\n",
      "91\n",
      "92\n",
      "93\n",
      "94\n",
      "95\n",
      "96\n",
      "97\n",
      "98\n",
      "99\n",
      "100\n"
     ]
    }
   ],
   "source": [
    "# forloop\n",
    "\n",
    "for i in range(99+2):\n",
    "    print(i)"
   ]
  },
  {
   "cell_type": "code",
   "execution_count": 7,
   "metadata": {},
   "outputs": [
    {
     "name": "stdout",
     "output_type": "stream",
     "text": [
      "0123456789101112131415161718192021222324252627282930313233343536373839404142434445464748495051525354555657585960616263646566676869707172737475767778798081828384858687888990919293949596979899100"
     ]
    }
   ],
   "source": [
    "# forloop\n",
    "\n",
    "for i in range(101):\n",
    "    print(i,end='')"
   ]
  },
  {
   "cell_type": "code",
   "execution_count": 8,
   "metadata": {},
   "outputs": [
    {
     "name": "stdout",
     "output_type": "stream",
     "text": [
      "0,1,2,3,4,5,6,7,8,9,10,11,12,13,14,15,16,17,18,19,20,21,22,23,24,25,26,27,28,29,30,31,32,33,34,35,36,37,38,39,40,41,42,43,44,45,46,47,48,49,50,51,52,53,54,55,56,57,58,59,60,61,62,63,64,65,66,67,68,69,70,71,72,73,74,75,76,77,78,79,80,81,82,83,84,85,86,87,88,89,90,91,92,93,94,95,96,97,98,99,100,"
     ]
    }
   ],
   "source": [
    "# forloop\n",
    "\n",
    "for i in range(101):\n",
    "    print(i,end=',')"
   ]
  },
  {
   "cell_type": "code",
   "execution_count": 9,
   "metadata": {},
   "outputs": [
    {
     "name": "stdout",
     "output_type": "stream",
     "text": [
      "0*1*2*3*4*5*6*7*8*9*10*11*12*13*14*15*16*17*18*19*20*21*22*23*24*25*26*27*28*29*30*31*32*33*34*35*36*37*38*39*40*41*42*43*44*45*46*47*48*49*50*51*52*53*54*55*56*57*58*59*60*61*62*63*64*65*66*67*68*69*70*71*72*73*74*75*76*77*78*79*80*81*82*83*84*85*86*87*88*89*90*91*92*93*94*95*96*97*98*99*100*"
     ]
    }
   ],
   "source": [
    "# forloop\n",
    "\n",
    "for i in range(101):\n",
    "    print(i,end='*')"
   ]
  },
  {
   "cell_type": "code",
   "execution_count": 12,
   "metadata": {},
   "outputs": [
    {
     "name": "stdout",
     "output_type": "stream",
     "text": [
      "0,1,2,3,4,5,6,7,8,9,10,11,12,13,14,15,16,17,18,19,20,21,22,23,24,25,26,27,28,29,30,31,32,33,34,35,36,37,38,39,40,41,42,43,44,45,46,47,48,49,50,51,52,53,54,55,56,57,58,59,60,61,62,63,64,65,66,67,68,69,70,71,72,73,74,75,76,77,78,79,80,81,82,83,84,85,86,87,88,89,90,91,92,93,94,95,96,97,98,99,100,5,6,7,8,9,10,11,12,13,14,15,16,17,18,19,20,21,22,23,24,25,26,27,28,29,30,31,32,33,34,35,36,37,38,39,40,41,42,43,44,45,46,47,48,49,50,"
     ]
    }
   ],
   "source": [
    "# forloop\n",
    "\n",
    "for i in range(101):\n",
    "    print(i,end=',')\n",
    "# with inclusive\n",
    "for j in range(5,50+1):\n",
    "    print(j,end=',')\n",
    " \n",
    "# reverse numbers\n",
    "\n",
    "for k in range(51,0-1):\n",
    "    print(k,end='<--')"
   ]
  },
  {
   "cell_type": "code",
   "execution_count": 8,
   "metadata": {},
   "outputs": [
    {
     "name": "stdout",
     "output_type": "stream",
     "text": [
      "50,49,48,47,46,45,44,43,42,41,40,39,38,37,36,35,34,33,32,31,30,29,28,27,26,25,24,23,22,21,20,19,18,17,16,15,14,13,12,11,10,9,8,7,6,5,4,3,2,1,"
     ]
    }
   ],
   "source": [
    "# Reverse numbers\n",
    "\n",
    "for k in range(50,0,-1):\n",
    "    print(k,end=',')"
   ]
  },
  {
   "cell_type": "code",
   "execution_count": 9,
   "metadata": {},
   "outputs": [
    {
     "name": "stdout",
     "output_type": "stream",
     "text": [
      "0,2,4,6,8,10,12,14,16,18,20,22,24,26,28,30,32,34,36,38,40,42,44,46,48,50,52,54,56,58,60,62,64,66,68,70,72,74,76,78,80,82,84,86,88,90,92,94,96,98,100,"
     ]
    }
   ],
   "source": [
    "# evennumbers using forloop\n",
    "\n",
    "for i in range(0,101,2):\n",
    "    print(i,end=',')"
   ]
  },
  {
   "cell_type": "code",
   "execution_count": 5,
   "metadata": {},
   "outputs": [
    {
     "name": "stdout",
     "output_type": "stream",
     "text": [
      "1,3,5,7,9,11,13,15,17,19,21,23,25,27,29,31,33,35,37,39,41,43,45,47,49,51,53,55,57,59,61,63,65,67,69,71,73,75,77,79,81,83,85,87,89,91,93,95,97,99,"
     ]
    }
   ],
   "source": [
    "# oddnumbers using forloop\n",
    "\n",
    "for i in range(1,101,2):\n",
    "    print(i,end=',')"
   ]
  },
  {
   "cell_type": "code",
   "execution_count": 8,
   "metadata": {},
   "outputs": [
    {
     "name": "stdout",
     "output_type": "stream",
     "text": [
      "5\n",
      "012345"
     ]
    }
   ],
   "source": [
    "n = int(input())\n",
    "for i in range(n+1):\n",
    "    print(i,end ='')"
   ]
  },
  {
   "cell_type": "code",
   "execution_count": 12,
   "metadata": {},
   "outputs": [
    {
     "name": "stdout",
     "output_type": "stream",
     "text": [
      "15\n",
      "120\n"
     ]
    }
   ],
   "source": [
    "n = int(input())\n",
    "s =0\n",
    "for i in range(n+1):\n",
    "    s+=i#s= s+i\n",
    "    #print(i,end =',')\n",
    "print(s)    "
   ]
  },
  {
   "cell_type": "code",
   "execution_count": null,
   "metadata": {},
   "outputs": [],
   "source": [
    "#sum of natural numbers in between the given range"
   ]
  },
  {
   "cell_type": "code",
   "execution_count": 18,
   "metadata": {},
   "outputs": [
    {
     "name": "stdout",
     "output_type": "stream",
     "text": [
      "3\n"
     ]
    }
   ],
   "source": [
    "n = int(input())\n",
    "for i in range(10,1):\n",
    "    print(i)"
   ]
  },
  {
   "cell_type": "code",
   "execution_count": 20,
   "metadata": {},
   "outputs": [
    {
     "name": "stdout",
     "output_type": "stream",
     "text": [
      "10\n",
      "10\n",
      "9\n",
      "8\n",
      "7\n",
      "6\n",
      "5\n",
      "4\n",
      "3\n",
      "2\n"
     ]
    }
   ],
   "source": [
    "n = int(input())\n",
    "for i in range(10,1,-1):\n",
    "    print(i)"
   ]
  },
  {
   "cell_type": "code",
   "execution_count": 2,
   "metadata": {},
   "outputs": [
    {
     "name": "stdout",
     "output_type": "stream",
     "text": [
      "10\n",
      "11\n",
      "12\n",
      "13\n",
      "14\n",
      "15\n",
      "16\n",
      "17\n",
      "18\n",
      "19\n"
     ]
    }
   ],
   "source": [
    "#n = int(input())\n",
    "for i in range(10,20):\n",
    "    print(i)"
   ]
  },
  {
   "cell_type": "code",
   "execution_count": 7,
   "metadata": {},
   "outputs": [
    {
     "name": "stdout",
     "output_type": "stream",
     "text": [
      "20\n",
      "17\n",
      "14\n",
      "11\n",
      "8\n",
      "5\n"
     ]
    }
   ],
   "source": [
    "#n = int(input())\n",
    "for i in range(20,2,-3):\n",
    "    print(i)"
   ]
  },
  {
   "cell_type": "code",
   "execution_count": 13,
   "metadata": {},
   "outputs": [
    {
     "name": "stdout",
     "output_type": "stream",
     "text": [
      "enter factorial number        6\n",
      "720\n"
     ]
    }
   ],
   "source": [
    "n= int(input('enter factorial number'))\n",
    "f= 1\n",
    "for i in range(1,n+1):\n",
    "    f*=i#f= f+i\n",
    "    #print(i,end =',')\n",
    "print(f)    \n",
    "\n",
    "    "
   ]
  },
  {
   "cell_type": "code",
   "execution_count": 18,
   "metadata": {},
   "outputs": [
    {
     "name": "stdout",
     "output_type": "stream",
     "text": [
      "enter factorial number5\n",
      "240\n"
     ]
    }
   ],
   "source": [
    "n= int(input('enter factorial number'))\n",
    "f= 2\n",
    "for i in range(2,n+1):\n",
    "    f*=i#f= f+i\n",
    "    #print(i,end =',')\n",
    "print(f)    \n"
   ]
  },
  {
   "cell_type": "code",
   "execution_count": 2,
   "metadata": {},
   "outputs": [
    {
     "name": "stdout",
     "output_type": "stream",
     "text": [
      "enter table number:18\n",
      "enter table upto:30\n",
      "18 * 1 = 18\n",
      "18 * 2 = 36\n",
      "18 * 3 = 54\n",
      "18 * 4 = 72\n",
      "18 * 5 = 90\n",
      "18 * 6 = 108\n",
      "18 * 7 = 126\n",
      "18 * 8 = 144\n",
      "18 * 9 = 162\n",
      "18 * 10 = 180\n",
      "18 * 11 = 198\n",
      "18 * 12 = 216\n",
      "18 * 13 = 234\n",
      "18 * 14 = 252\n",
      "18 * 15 = 270\n",
      "18 * 16 = 288\n",
      "18 * 17 = 306\n",
      "18 * 18 = 324\n",
      "18 * 19 = 342\n",
      "18 * 20 = 360\n",
      "18 * 21 = 378\n",
      "18 * 22 = 396\n",
      "18 * 23 = 414\n",
      "18 * 24 = 432\n",
      "18 * 25 = 450\n",
      "18 * 26 = 468\n",
      "18 * 27 = 486\n",
      "18 * 28 = 504\n",
      "18 * 29 = 522\n",
      "18 * 30 = 540\n"
     ]
    }
   ],
   "source": [
    "# table\n",
    "p = int(input('enter table number:'))\n",
    "s = int(input('enter table upto:'))\n",
    "for i in range(1,s+1):\n",
    "    print('{} * {} = {}'.format(p,i,p*i))"
   ]
  },
  {
   "cell_type": "code",
   "execution_count": 1,
   "metadata": {},
   "outputs": [
    {
     "name": "stdout",
     "output_type": "stream",
     "text": [
      "sweety sweety sweety sweety sweety \n"
     ]
    }
   ],
   "source": [
    "print(5*'sweety ')         "
   ]
  },
  {
   "cell_type": "code",
   "execution_count": 4,
   "metadata": {},
   "outputs": [
    {
     "name": "stdout",
     "output_type": "stream",
     "text": [
      "enter table number:5\n",
      "enter table upto:10\n",
      "5 * 1 = 5\n",
      "5 * 2 = 10\n",
      "5 * 3 = 15\n",
      "5 * 4 = 20\n",
      "5 * 5 = 25\n",
      "5 * 6 = 30\n",
      "5 * 7 = 35\n",
      "5 * 8 = 40\n",
      "5 * 9 = 45\n",
      "5 * 10 = 50\n",
      "10 * 1 = 10\n",
      "10 * 2 = 20\n",
      "10 * 3 = 30\n",
      "10 * 4 = 40\n",
      "10 * 5 = 50\n",
      "10 * 6 = 60\n",
      "10 * 7 = 70\n",
      "10 * 8 = 80\n",
      "10 * 9 = 90\n",
      "10 * 10 = 100\n"
     ]
    }
   ],
   "source": [
    "# table\n",
    "p = int(input('enter table number:'))\n",
    "s = int(input('enter table upto:'))\n",
    "for i in range(1,s+1):\n",
    "    print('{} * {} = {}'.format(p,i,p*i))\n",
    "for j in range(1,s+1):\n",
    "    print('{} * {} = {}'.format(s,j,s*j))"
   ]
  },
  {
   "cell_type": "markdown",
   "metadata": {},
   "source": [
    "### While:\n",
    "\n",
    "  'while condition: \n",
    "  \n",
    "         statements\n",
    "         \n",
    "            change the value'"
   ]
  },
  {
   "cell_type": "code",
   "execution_count": 3,
   "metadata": {},
   "outputs": [
    {
     "name": "stdout",
     "output_type": "stream",
     "text": [
      "1\n",
      "2\n",
      "3\n",
      "4\n",
      "5\n",
      "6\n",
      "7\n",
      "8\n",
      "9\n",
      "10\n",
      "11\n",
      "12\n",
      "13\n",
      "14\n",
      "15\n",
      "16\n",
      "17\n",
      "18\n",
      "19\n"
     ]
    }
   ],
   "source": [
    "i=1\n",
    "while i<20:\n",
    "    print(i)\n",
    "    i+=1"
   ]
  },
  {
   "cell_type": "code",
   "execution_count": 6,
   "metadata": {},
   "outputs": [
    {
     "name": "stdout",
     "output_type": "stream",
     "text": [
      "0\n",
      "2\n",
      "4\n",
      "6\n",
      "8\n",
      "10\n"
     ]
    }
   ],
   "source": [
    "i=0\n",
    "while (i<=10):\n",
    "    print(i)\n",
    "    i+=2"
   ]
  },
  {
   "cell_type": "code",
   "execution_count": 7,
   "metadata": {},
   "outputs": [
    {
     "name": "stdout",
     "output_type": "stream",
     "text": [
      "1\n",
      "3\n",
      "5\n",
      "7\n",
      "9\n"
     ]
    }
   ],
   "source": [
    "i=1\n",
    "while (i<=10):\n",
    "    print(i)\n",
    "    i+=2"
   ]
  },
  {
   "cell_type": "code",
   "execution_count": 8,
   "metadata": {},
   "outputs": [
    {
     "name": "stdout",
     "output_type": "stream",
     "text": [
      "0\n",
      "2\n",
      "4\n",
      "6\n",
      "8\n",
      "10\n",
      "12\n",
      "14\n",
      "16\n",
      "18\n",
      "20\n"
     ]
    }
   ],
   "source": [
    "i=0\n",
    "while (i<=20):\n",
    "    print(i)\n",
    "    i+=2"
   ]
  },
  {
   "cell_type": "code",
   "execution_count": 4,
   "metadata": {},
   "outputs": [
    {
     "name": "stdout",
     "output_type": "stream",
     "text": [
      "2\n",
      "4\n",
      "6\n",
      "8\n",
      "10\n",
      "12\n",
      "14\n",
      "16\n",
      "18\n"
     ]
    }
   ],
   "source": [
    "n = 1\n",
    "while n<20:\n",
    "    if n%2==0:\n",
    "        print(n)\n",
    "    n+=1"
   ]
  },
  {
   "cell_type": "markdown",
   "metadata": {},
   "source": [
    "# Take a break program using WhileCondition"
   ]
  },
  {
   "cell_type": "code",
   "execution_count": 12,
   "metadata": {},
   "outputs": [
    {
     "data": {
      "text/plain": [
       "'Tue Jan  5 11:29:24 2021'"
      ]
     },
     "execution_count": 12,
     "metadata": {},
     "output_type": "execute_result"
    }
   ],
   "source": [
    "'''import webbrowser\n",
    "#dir(webbrowser)\n",
    "webbrowser.open('www.google.com')\n",
    "'''\n",
    "\n",
    "import time\n",
    "#dir(time)\n",
    "time.ctime()\n",
    "\n",
    "\n",
    "\n"
   ]
  },
  {
   "cell_type": "code",
   "execution_count": 1,
   "metadata": {},
   "outputs": [
    {
     "name": "stdout",
     "output_type": "stream",
     "text": [
      "Tue Jan  5 11:41:07 2021\n",
      "Tue Jan  5 11:41:17 2021\n",
      "True\n"
     ]
    }
   ],
   "source": [
    "import webbrowser,time\n",
    "totalbreaks=2\n",
    "count=0\n",
    "\n",
    "while count<totalbreaks:\n",
    "    print(time.ctime())\n",
    "    time.sleep(10)\n",
    "    if count==1:\n",
    "        print(webbrowser.open('www.facebook.com'))\n",
    "        \n",
    "    elif count==2:\n",
    "        print(webbrowser.open('www.youtube.com'))\n",
    "        \n",
    "    count+=1    \n",
    "        \n",
    "        \n"
   ]
  },
  {
   "cell_type": "code",
   "execution_count": 1,
   "metadata": {},
   "outputs": [
    {
     "name": "stdout",
     "output_type": "stream",
     "text": [
      "10\n",
      "11\n",
      "12\n",
      "13\n",
      "14\n",
      "15\n"
     ]
    }
   ],
   "source": [
    "i=10\n",
    "while i<20:\n",
    "    print(i)\n",
    "    if i == 15:\n",
    "        break\n",
    "    else:\n",
    "        i+=1"
   ]
  },
  {
   "cell_type": "code",
   "execution_count": 3,
   "metadata": {},
   "outputs": [
    {
     "name": "stdout",
     "output_type": "stream",
     "text": [
      "10\n",
      "11\n",
      "12\n",
      "13\n",
      "14\n"
     ]
    }
   ],
   "source": [
    "i=10\n",
    "while i<20:\n",
    "    print(i)\n",
    "    i+=1\n",
    "    if i == 15:\n",
    "        break\n",
    "        "
   ]
  },
  {
   "cell_type": "code",
   "execution_count": 6,
   "metadata": {},
   "outputs": [
    {
     "name": "stdout",
     "output_type": "stream",
     "text": [
      "s\n",
      "s\n",
      "s\n",
      "s\n",
      "s\n"
     ]
    }
   ],
   "source": [
    "s = 'hello'\n",
    "for i in s:\n",
    "    print('s')"
   ]
  },
  {
   "cell_type": "code",
   "execution_count": 7,
   "metadata": {},
   "outputs": [
    {
     "name": "stdout",
     "output_type": "stream",
     "text": [
      "hello\n",
      "hello\n",
      "hello\n",
      "hello\n",
      "hello\n"
     ]
    }
   ],
   "source": [
    "s = 'hello'\n",
    "for i in s:\n",
    "    print(s)"
   ]
  },
  {
   "cell_type": "code",
   "execution_count": 3,
   "metadata": {},
   "outputs": [
    {
     "name": "stdout",
     "output_type": "stream",
     "text": [
      "h\n",
      "e\n"
     ]
    }
   ],
   "source": [
    "s='hello'\n",
    "for i in s:\n",
    "    if i=='l':\n",
    "        break\n",
    "    print(i) \n",
    "    \n",
    "    "
   ]
  },
  {
   "cell_type": "code",
   "execution_count": null,
   "metadata": {},
   "outputs": [
    {
     "name": "stdout",
     "output_type": "stream",
     "text": [
      "10\n",
      "11\n",
      "12\n",
      "13\n",
      "14\n"
     ]
    }
   ],
   "source": [
    "i=10\n",
    "while i<20:\n",
    "    \n",
    "    if i == 15:\n",
    "        continue\n",
    "    print(i)\n",
    "    i+=1"
   ]
  },
  {
   "cell_type": "code",
   "execution_count": 4,
   "metadata": {},
   "outputs": [
    {
     "name": "stdout",
     "output_type": "stream",
     "text": [
      "e\n",
      "o\n"
     ]
    }
   ],
   "source": [
    "s='hello'\n",
    "for i in s:\n",
    "    if i=='l' or i=='h':\n",
    "        continue\n",
    "    print(i) \n",
    "    \n",
    "    "
   ]
  },
  {
   "cell_type": "code",
   "execution_count": 5,
   "metadata": {},
   "outputs": [
    {
     "name": "stdout",
     "output_type": "stream",
     "text": [
      "h\n",
      "e\n",
      "o\n"
     ]
    }
   ],
   "source": [
    "s='hello'\n",
    "for i in s:\n",
    "    if i=='l':\n",
    "        continue\n",
    "    print(i) \n",
    "    "
   ]
  },
  {
   "cell_type": "code",
   "execution_count": 13,
   "metadata": {},
   "outputs": [],
   "source": [
    "def table(p,s):\n",
    "    for i in range(1,s+1):\n",
    "        print('{} * {} = {}'.format(p,i,p*i))\n",
    "    \n",
    "\n",
    "\n"
   ]
  },
  {
   "cell_type": "code",
   "execution_count": 14,
   "metadata": {},
   "outputs": [
    {
     "name": "stdout",
     "output_type": "stream",
     "text": [
      "enter table upto8\n",
      "enter table length8\n",
      "1 * 1 = 1\n",
      "1 * 2 = 2\n",
      "1 * 3 = 3\n",
      "1 * 4 = 4\n",
      "1 * 5 = 5\n",
      "1 * 6 = 6\n",
      "1 * 7 = 7\n",
      "1 * 8 = 8\n",
      "2 * 1 = 2\n",
      "2 * 2 = 4\n",
      "2 * 3 = 6\n",
      "2 * 4 = 8\n",
      "2 * 5 = 10\n",
      "2 * 6 = 12\n",
      "2 * 7 = 14\n",
      "2 * 8 = 16\n",
      "3 * 1 = 3\n",
      "3 * 2 = 6\n",
      "3 * 3 = 9\n",
      "3 * 4 = 12\n",
      "3 * 5 = 15\n",
      "3 * 6 = 18\n",
      "3 * 7 = 21\n",
      "3 * 8 = 24\n",
      "4 * 1 = 4\n",
      "4 * 2 = 8\n",
      "4 * 3 = 12\n",
      "4 * 4 = 16\n",
      "4 * 5 = 20\n",
      "4 * 6 = 24\n",
      "4 * 7 = 28\n",
      "4 * 8 = 32\n",
      "5 * 1 = 5\n",
      "5 * 2 = 10\n",
      "5 * 3 = 15\n",
      "5 * 4 = 20\n",
      "5 * 5 = 25\n",
      "5 * 6 = 30\n",
      "5 * 7 = 35\n",
      "5 * 8 = 40\n",
      "6 * 1 = 6\n",
      "6 * 2 = 12\n",
      "6 * 3 = 18\n",
      "6 * 4 = 24\n",
      "6 * 5 = 30\n",
      "6 * 6 = 36\n",
      "6 * 7 = 42\n",
      "6 * 8 = 48\n",
      "7 * 1 = 7\n",
      "7 * 2 = 14\n",
      "7 * 3 = 21\n",
      "7 * 4 = 28\n",
      "7 * 5 = 35\n",
      "7 * 6 = 42\n",
      "7 * 7 = 49\n",
      "7 * 8 = 56\n"
     ]
    }
   ],
   "source": [
    "\n",
    "p = int(input('enter table upto'))\n",
    "s = int(input('enter table length'))\n",
    "for i in range(1,p):\n",
    "    table(i,s)"
   ]
  },
  {
   "cell_type": "code",
   "execution_count": null,
   "metadata": {},
   "outputs": [],
   "source": []
  }
 ],
 "metadata": {
  "kernelspec": {
   "display_name": "Python 3",
   "language": "python",
   "name": "python3"
  },
  "language_info": {
   "codemirror_mode": {
    "name": "ipython",
    "version": 3
   },
   "file_extension": ".py",
   "mimetype": "text/x-python",
   "name": "python",
   "nbconvert_exporter": "python",
   "pygments_lexer": "ipython3",
   "version": "3.6.5"
  }
 },
 "nbformat": 4,
 "nbformat_minor": 4
}
